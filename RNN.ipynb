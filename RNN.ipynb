{
 "cells": [
  {
   "cell_type": "code",
   "execution_count": 1,
   "metadata": {
    "_cell_guid": "05e5fb6f-aa09-46c3-8390-3835fd6c4eed",
    "_uuid": "d841748cae2804113d4f6d7f1537a582eb2f3336",
    "collapsed": true
   },
   "outputs": [],
   "source": [
    "import pandas as pd\n",
    "import numpy as np\n",
    "import matplotlib.pyplot as plt\n",
    "import re\n",
    "from collections import Counter\n",
    "%matplotlib inline\n",
    "from pandas import DataFrame\n",
    "from pandas import Series\n",
    "from pandas import concat\n",
    "from pandas import read_csv\n",
    "from pandas import datetime\n",
    "from sklearn.metrics import mean_squared_error\n",
    "from sklearn.preprocessing import MinMaxScaler\n",
    "from keras.models import Sequential\n",
    "from keras.layers import Dense\n",
    "from keras.layers import LSTM\n",
    "from keras import losses\n",
    "from math import sqrt"
   ]
  },
  {
   "cell_type": "code",
   "execution_count": 2,
   "metadata": {
    "_cell_guid": "9c9d3cd6-ecbf-489c-91cf-bbd450b60f61",
    "_uuid": "a897b4a3dc788e630dc7c714f21cdfeead180ff3",
    "collapsed": true
   },
   "outputs": [],
   "source": [
    "train = pd.read_csv('../input/train_1.csv').fillna(0)\n",
    "train1 = train.transpose()\n",
    "\n",
    "df = train1\n",
    "df.columns = df.iloc[0]\n",
    "df = df[1:]\n",
    "\n",
    "y=[]\n",
    "for i in range(1,df.shape[1]):\n",
    "    l = df.iloc[0:,i]\n",
    "    y.append(list(map(int,l)))"
   ]
  },
  {
   "cell_type": "code",
   "execution_count": 3,
   "metadata": {
    "_cell_guid": "48debae3-1577-4515-bb3f-ee836e09ae5d",
    "_uuid": "df0ffd9b605f74d9700ca01c9249ba398619c734",
    "collapsed": true
   },
   "outputs": [],
   "source": [
    "import keras.backend as K\n",
    "def smape_loss(y_true, y_pred):\n",
    "    diff = K.abs((y_true - y_pred) / K.clip(K.abs(y_true) + K.abs(y_pred), K.epsilon(), None))\n",
    "    return 200 * K.mean(diff, axis=-1)"
   ]
  },
  {
   "cell_type": "code",
   "execution_count": 4,
   "metadata": {
    "_cell_guid": "f6f5e9fc-86a5-4fb1-badf-14c719924d2c",
    "_uuid": "d9f418ad22eca2ddabebf79ff5bbccbcd35b778d",
    "collapsed": true
   },
   "outputs": [],
   "source": [
    "import keras\n",
    "import tensorflow as tf\n",
    "%matplotlib inline\n",
    "import os, sys\n",
    "os.environ[\"CUDA_VISIBLE_DEVICES\"]=\"1\""
   ]
  },
  {
   "cell_type": "code",
   "execution_count": 5,
   "metadata": {
    "_cell_guid": "31589cc8-3a9a-4e27-b590-78502b327ea6",
    "_uuid": "ed628ce964feaecaef74152bbcba3efe79ca8d8b",
    "collapsed": true
   },
   "outputs": [],
   "source": [
    "print(\"python:{}, keras:{}, tensorflow: {}\".format(sys.version, keras.__version__, tf.__version__))"
   ]
  },
  {
   "cell_type": "code",
   "execution_count": null,
   "metadata": {
    "_cell_guid": "f4133188-bc44-4b67-9a09-1ce91f40eb04",
    "_uuid": "970797ecea6a6c1dca1ddea1cf6d1db2117e7072",
    "collapsed": true
   },
   "outputs": [],
   "source": [
    "def init():\n",
    "    from keras.models import Sequential  \n",
    "    from keras.layers.core import Dense, Activation  \n",
    "    from keras.layers.recurrent import LSTM\n",
    "\n",
    "    in_out_neurons = 50 \n",
    "    hidden_neurons = 200\n",
    "\n",
    "    model = Sequential()\n",
    "    model.add(LSTM(hidden_neurons, return_sequences=False,\n",
    "                   input_shape=(None, in_out_neurons)))\n",
    "    model.add(Dense(in_out_neurons, input_dim=hidden_neurons))  \n",
    "    model.add(Activation(\"linear\"))  #softplus,softsign\n",
    "    model.compile(loss=smape_loss, optimizer=\"Adam\") #Adagrad\n",
    "    return model"
   ]
  },
  {
   "cell_type": "code",
   "execution_count": 32,
   "metadata": {
    "_cell_guid": "97c85c5d-eeae-4271-84c1-b290be348e83",
    "_uuid": "1e4dee38bd44603a1cc0128311f177755e983e9a",
    "collapsed": true
   },
   "outputs": [],
   "source": [
    "model=init()\n",
    "model.summary()"
   ]
  },
  {
   "cell_type": "code",
   "execution_count": 14,
   "metadata": {
    "_cell_guid": "46945305-7062-4ae5-b08a-9e99ee6ecaa2",
    "_uuid": "8f1156e5274ec0b2209223933cb0914431e7b0c6",
    "collapsed": true
   },
   "outputs": [],
   "source": [
    "\n",
    "import numpy as np\n",
    "\n",
    "def _load_data(data, n_prev = 21):  \n",
    "    \"\"\"\n",
    "    data should be pd.DataFrame()\n",
    "    \"\"\"\n",
    "\n",
    "    docX, docY = [], []\n",
    "    for i in range(len(data)-n_prev):\n",
    "        docX.append(data.iloc[i:i+n_prev].as_matrix())\n",
    "        docY.append(data.iloc[i+n_prev].as_matrix())\n",
    "    alsX = np.array(docX)\n",
    "    alsY = np.array(docY)\n",
    "\n",
    "    return alsX, alsY\n",
    "\n",
    "def train_test_split(df, test_size=0.2):  \n",
    "    \"\"\"\n",
    "    This just splits data to training and testing parts\n",
    "    \"\"\"\n",
    "    ntrn = round(len(df) * (1 - test_size))\n",
    "\n",
    "    X_train, y_train = _load_data(df.iloc[0:ntrn])\n",
    "    X_test, y_test = _load_data(df.iloc[ntrn:])\n",
    "\n",
    "    return (X_train, y_train), (X_test, y_test)\n",
    "\n"
   ]
  },
  {
   "cell_type": "code",
   "execution_count": 68,
   "metadata": {
    "_cell_guid": "b59d3c4f-1c7c-473a-9cb1-f3f7b7642e4f",
    "_uuid": "793727a4efa3fa1abf6e13c245a1d1eb828a5777",
    "collapsed": true
   },
   "outputs": [],
   "source": [
    "# transform data to be stationary\n",
    "raw_values = df.iloc[:,:50]"
   ]
  },
  {
   "cell_type": "code",
   "execution_count": 69,
   "metadata": {
    "_cell_guid": "50d6fba0-d0dd-4007-adbf-ff627d2a7279",
    "_uuid": "54abf0c9f92817ffc5ad090c0736289fb33c9881",
    "collapsed": true
   },
   "outputs": [],
   "source": [
    "(X_train, y_train), (X_test, y_test)=train_test_split(raw_values)"
   ]
  },
  {
   "cell_type": "code",
   "execution_count": 20,
   "metadata": {
    "_cell_guid": "06a31c80-e481-449e-a26e-d83f42b176ca",
    "_uuid": "72e20b1d9152c05650f28461a7e9fa1b386ac56c",
    "collapsed": true
   },
   "outputs": [],
   "source": [
    "X_train.shape,X_test.shape, y_train.shape,y_test.shape"
   ]
  },
  {
   "cell_type": "code",
   "execution_count": 70,
   "metadata": {
    "_cell_guid": "8b81a072-3d67-4c94-bf98-aea8db47ea77",
    "_uuid": "fb2865c01ebdf91a370be6204163f9417e95472e",
    "collapsed": true
   },
   "outputs": [],
   "source": [
    "model=init()\n",
    "model.fit(X_train, y_train, batch_size=10, epochs=10, validation_split=0.05)"
   ]
  },
  {
   "cell_type": "code",
   "execution_count": 71,
   "metadata": {
    "_cell_guid": "df74b40a-7d60-4351-8684-b7f1f97a98f5",
    "_uuid": "54aab0bc368f1e80c59167581be156df81f3fd80",
    "collapsed": true
   },
   "outputs": [],
   "source": [
    "predicted = model.predict(X_test)\n",
    "error =(((np.abs(y_test - predicted)) /(np.abs(y_test) + np.abs(predicted))) * 200).mean(axis=0)\n",
    "error.mean()"
   ]
  },
  {
   "cell_type": "code",
   "execution_count": 75,
   "metadata": {
    "_cell_guid": "273f0aa8-85ea-4b46-97f2-64a3bee8e5c2",
    "_uuid": "9e5f9872f2561ced8475b9f9af1ce2d79187a7ce",
    "collapsed": true
   },
   "outputs": [],
   "source": [
    "series = []\n",
    "for i in range(0,df.shape[1],50):\n",
    "    series.append(i)\n",
    "#sum(series)/len(series)"
   ]
  },
  {
   "cell_type": "code",
   "execution_count": 56,
   "metadata": {
    "_cell_guid": "50497241-5e8a-4c8a-917d-661318dffea5",
    "_uuid": "8cd0f7e93c01b7e55512bd4ecc05094d298eb884",
    "collapsed": true
   },
   "outputs": [],
   "source": [
    "train_data =[]\n",
    "for i in range(1,len(series)):\n",
    "    raw_values = df.iloc[:,series[i-1]:series[i]]\n",
    "    (X_train, y_train), (X_test, y_test)=train_test_split(raw_values)\n",
    "    temp = list(X_train, y_train, X_test, y_test)\n",
    "    train_data.append(temp)"
   ]
  },
  {
   "cell_type": "code",
   "execution_count": 78,
   "metadata": {
    "_cell_guid": "906f71b1-e2d6-4d50-86c0-c6b1df8aafcb",
    "_uuid": "e8bb1dde0bd2b2686e07aca260aaeb04e4551f88",
    "collapsed": true
   },
   "outputs": [],
   "source": [
    "models = []\n",
    "result = []\n",
    "model = init()"
   ]
  },
  {
   "cell_type": "code",
   "execution_count": 79,
   "metadata": {
    "_cell_guid": "af7bf309-9ff8-4ddb-af34-5ad1d3ff6657",
    "_uuid": "43488fb6775eb05c8f8b81835e4fcdfecda7c47d",
    "collapsed": true
   },
   "outputs": [],
   "source": [
    "for i in range(1,len(series)):\n",
    "    raw_values = df.iloc[:,series[i-1]:series[i]]\n",
    "    (X_train, y_train), (X_test, y_test)=train_test_split(raw_values)\n",
    "    model = init()\n",
    "    model.fit(X_train, y_train, batch_size=10, epochs=10, validation_split=0.05)\n",
    "    predicted = model.predict(X_test)\n",
    "    error =(((np.abs(y_test - predicted)) /(np.abs(y_test) + np.abs(predicted))) * 200).mean(axis=0)\n",
    "    result.append(error.mean())\n",
    "    print(sum(result)/len(result))\n",
    "    models.append(model)"
   ]
  }
 ],
 "metadata": {
  "kernelspec": {
   "display_name": "Python 3",
   "language": "python",
   "name": "python3"
  },
  "language_info": {
   "codemirror_mode": {
    "name": "ipython",
    "version": 3
   },
   "file_extension": ".py",
   "mimetype": "text/x-python",
   "name": "python",
   "nbconvert_exporter": "python",
   "pygments_lexer": "ipython3",
   "version": "3.5.2"
  }
 },
 "nbformat": 4,
 "nbformat_minor": 1
}
